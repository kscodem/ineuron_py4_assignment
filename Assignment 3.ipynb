{
 "cells": [
  {
   "cell_type": "code",
   "execution_count": 4,
   "metadata": {},
   "outputs": [
    {
     "name": "stdout",
     "output_type": "stream",
     "text": [
      "division by zero  - type of exception\n"
     ]
    }
   ],
   "source": [
    "#Task 1:\n",
    "#1.Write a function to compute 5/0 and use try/except to catch the exceptions.\n",
    "\n",
    "try :\n",
    "    print(5/0)\n",
    "except Exception as e :\n",
    "    print(e, \" - type of exception\")"
   ]
  },
  {
   "cell_type": "code",
   "execution_count": 8,
   "metadata": {},
   "outputs": [
    {
     "name": "stdout",
     "output_type": "stream",
     "text": [
      "Americans play Baseball\n",
      "Americans play Cricket\n",
      "Americans watch Baseball\n",
      "Americans watch Cricket\n",
      "Indians play Baseball\n",
      "Indians play Cricket\n",
      "Indians watch Baseball\n",
      "Indians watch Cricket\n"
     ]
    }
   ],
   "source": [
    "#2. Implement a Python program to generate all sentences where subject is in [\"Americans\",\n",
    "#\"Indians\"] and verb is in [\"Play\", \"watch\"] and the object is in [\"Baseball\",\"cricket\"].\n",
    "#Hint: Subject,Verb and Object should be declared in the program as shown below.\n",
    "#subjects=[\"Americans \",\"Indians\"]\n",
    "#verbs=[\"play\",\"watch\"]\n",
    "#objects=[\"Baseball\",\"Cricket\"]\n",
    "\n",
    "subjects = [\"Americans\",\"Indians\"]\n",
    "verbs = [\"play\",\"watch\"]\n",
    "objects = [\"Baseball\",\"Cricket\"]\n",
    "\n",
    "for i in subjects :\n",
    "    for j in verbs :\n",
    "        for k in objects :\n",
    "            print(i,j,k)\n"
   ]
  },
  {
   "cell_type": "code",
   "execution_count": 5,
   "metadata": {},
   "outputs": [],
   "source": [
    "import numpy as nd"
   ]
  },
  {
   "cell_type": "code",
   "execution_count": 8,
   "metadata": {},
   "outputs": [],
   "source": [
    "#Task 2:\n",
    "#1.Write a function so that the columns of the output matrix are powers of the input vector.\n",
    "#The order of the powers is determined by the increasing boolean argument. Specifically, when\n",
    "#increasing is False, the i-th output column is the input vector raised element-wise to the power\n",
    "#of N - i - 1.\n",
    "#HINT: Such a matrix with a geometric progression in each row is named for Alexandre-\n",
    "#Theophile Vandermonde.\n",
    "\n",
    "def getalexo(nd_a_ip,increasing=False) :\n",
    "    if type(nd_a_ip) == list :\n",
    "        nd_a = nd.array(nd_a_ip)\n",
    "    elif type(nd_a) == numpy.ndarray :\n",
    "        nd_a = nd_a_ip\n",
    "        \n",
    "    N = nd_a.shape[0]\n",
    "    result = nd.empty([N,N],dtype=int)\n",
    "    result.fill(0)\n",
    "    for i in range(N) :\n",
    "        if increasing == True :\n",
    "            result[i][:] = nd_a**i\n",
    "        else :\n",
    "            result[i][:] = nd_a**(N-i-1)\n",
    "    return result.transpose()"
   ]
  },
  {
   "cell_type": "code",
   "execution_count": 9,
   "metadata": {},
   "outputs": [
    {
     "data": {
      "text/plain": [
       "array([[ 1,  1,  1,  1],\n",
       "       [ 8,  4,  2,  1],\n",
       "       [27,  9,  3,  1],\n",
       "       [64, 16,  4,  1]])"
      ]
     },
     "execution_count": 9,
     "metadata": {},
     "output_type": "execute_result"
    }
   ],
   "source": [
    "getalexo([1,2,3,4],increasing= False)"
   ]
  },
  {
   "cell_type": "code",
   "execution_count": 10,
   "metadata": {},
   "outputs": [
    {
     "data": {
      "text/plain": [
       "array([[ 1,  1,  1,  1],\n",
       "       [ 1,  2,  4,  8],\n",
       "       [ 1,  3,  9, 27],\n",
       "       [ 1,  4, 16, 64]])"
      ]
     },
     "execution_count": 10,
     "metadata": {},
     "output_type": "execute_result"
    }
   ],
   "source": [
    "getalexo([1,2,3,4],increasing= True)"
   ]
  },
  {
   "cell_type": "code",
   "execution_count": null,
   "metadata": {},
   "outputs": [],
   "source": []
  }
 ],
 "metadata": {
  "kernelspec": {
   "display_name": "Python 3",
   "language": "python",
   "name": "python3"
  },
  "language_info": {
   "codemirror_mode": {
    "name": "ipython",
    "version": 3
   },
   "file_extension": ".py",
   "mimetype": "text/x-python",
   "name": "python",
   "nbconvert_exporter": "python",
   "pygments_lexer": "ipython3",
   "version": "3.7.3"
  }
 },
 "nbformat": 4,
 "nbformat_minor": 2
}
